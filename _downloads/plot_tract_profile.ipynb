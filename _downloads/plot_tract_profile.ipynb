{
  "nbformat_minor": 0,
  "cells": [
    {
      "source": [
        "%matplotlib inline"
      ],
      "cell_type": "code",
      "metadata": {
        "collapsed": false
      },
      "outputs": [],
      "execution_count": null
    },
    {
      "source": [
        "\n# Plotting tract profiles\n\n\nAn example of tracking and segmenting two tracts, and plotting their tract\nprofiles for FA (calculated with DTI).\n\n"
      ],
      "cell_type": "markdown",
      "metadata": {}
    },
    {
      "source": [
        "import os.path as op\nimport matplotlib.pyplot as plt\nimport numpy as np\nimport nibabel as nib\nimport dipy.data as dpd\nfrom dipy.data import fetcher\n\nimport AFQ.utils.streamlines as aus\nimport AFQ.data as afd\nimport AFQ.tractography as aft\nimport AFQ.registration as reg\nimport AFQ.dti as dti\nimport AFQ.segmentation as seg\n\n\ndpd.fetch_stanford_hardi()\n\nhardi_dir = op.join(fetcher.dipy_home, \"stanford_hardi\")\nhardi_fdata = op.join(hardi_dir, \"HARDI150.nii.gz\")\nhardi_fbval = op.join(hardi_dir, \"HARDI150.bval\")\nhardi_fbvec = op.join(hardi_dir, \"HARDI150.bvec\")\n\nimg = nib.load(hardi_fdata)\n\nprint(\"Calculating DTI...\")\nif not op.exists('./dti_FA.nii.gz'):\n    dti_params = dti.fit_dti(hardi_fdata, hardi_fbval, hardi_fbvec,\n                             out_dir='.')\nelse:\n    dti_params = {'FA': './dti_FA.nii.gz',\n                  'params': './dti_params.nii.gz'}\n\nprint(\"Tracking...\")\nif not op.exists('dti_streamlines.trk'):\n    streamlines = list(aft.track(dti_params['params']))\n    aus.write_trk('./dti_streamlines.trk', streamlines, affine=img.affine)\nelse:\n    tg = nib.streamlines.load('./dti_streamlines.trk').tractogram\n    streamlines = tg.apply_affine(np.linalg.inv(img.affine)).streamlines\n\n# Use only a small portion of the streamlines, for expedience:\nstreamlines = streamlines[::100]\n\ntemplates = afd.read_templates()\nbundle_names = [\"CST\", \"ILF\"]\n\nbundles = {}\nfor name in bundle_names:\n    for hemi in ['_R', '_L']:\n        bundles[name + hemi] = {'ROIs': [templates[name + '_roi1' + hemi],\n                                         templates[name + '_roi1' + hemi]],\n                                'rules': [True, True]}\n\n\nprint(\"Registering to template...\")\nMNI_T2_img = dpd.read_mni_template()\nif not op.exists('mapping.nii.gz'):\n    import dipy.core.gradients as dpg\n    gtab = dpg.gradient_table(hardi_fbval, hardi_fbvec)\n    mapping = reg.syn_register_dwi(hardi_fdata, gtab)\n    reg.write_mapping(mapping, './mapping.nii.gz')\nelse:\n    mapping = reg.read_mapping('./mapping.nii.gz', img, MNI_T2_img)\n\nprint(\"Segmenting fiber groups...\")\nfiber_groups = seg.segment(hardi_fdata,\n                           hardi_fbval,\n                           hardi_fbvec,\n                           streamlines,\n                           bundles,\n                           reg_template=MNI_T2_img,\n                           mapping=mapping,\n                           as_generator=False,\n                           affine=img.affine)\n\nFA_img = nib.load(dti_params['FA'])\nFA_data = FA_img.get_data()\n\nprint(\"Extracting tract profiles...\")\nfor bundle in bundles:\n    fig, ax = plt.subplots(1)\n    profile = seg.calculate_tract_profile(FA_data, fiber_groups[bundle])\n    ax.plot(profile)\n    ax.set_title(bundle)"
      ],
      "cell_type": "code",
      "metadata": {
        "collapsed": false
      },
      "outputs": [],
      "execution_count": null
    }
  ],
  "metadata": {
    "language_info": {
      "file_extension": ".py",
      "mimetype": "text/x-python",
      "codemirror_mode": {
        "version": 3,
        "name": "ipython"
      },
      "version": "3.5.1",
      "nbconvert_exporter": "python",
      "pygments_lexer": "ipython3",
      "name": "python"
    },
    "kernelspec": {
      "display_name": "Python 3",
      "name": "python3",
      "language": "python"
    }
  },
  "nbformat": 4
}