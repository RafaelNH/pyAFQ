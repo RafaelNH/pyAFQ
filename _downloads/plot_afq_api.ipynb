{
  "nbformat_minor": 0,
  "cells": [
    {
      "source": [
        "%matplotlib inline"
      ],
      "cell_type": "code",
      "metadata": {
        "collapsed": false
      },
      "outputs": [],
      "execution_count": null
    },
    {
      "source": [
        "\n# AFQ API\n\n\nAn example using the AFQ API\n\n"
      ],
      "cell_type": "markdown",
      "metadata": {}
    },
    {
      "source": [
        "import os.path as op\n\nimport matplotlib.pyplot as plt\nimport nibabel as nib\n\nfrom AFQ import api\nimport AFQ.data as afd\n\nafd.organize_stanford_data()\nbase_dir = op.join(op.expanduser('~'), 'AFQ_data', 'stanford_hardi')\nmyafq = api.AFQ(preproc_path=op.join(afd.afq_home, 'stanford_hardi'),\n                sub_prefix='sub')\n\nFA = nib.load(myafq.dti_fa[0]).get_data()\n\nfig, ax = plt.subplots(1)\nax.matshow(FA[:, :, FA.shape[-1] // 2], cmap='viridis')\nax.axis(\"off\")\nplt.show()"
      ],
      "cell_type": "code",
      "metadata": {
        "collapsed": false
      },
      "outputs": [],
      "execution_count": null
    }
  ],
  "metadata": {
    "language_info": {
      "file_extension": ".py",
      "mimetype": "text/x-python",
      "codemirror_mode": {
        "version": 3,
        "name": "ipython"
      },
      "version": "3.5.1",
      "nbconvert_exporter": "python",
      "pygments_lexer": "ipython3",
      "name": "python"
    },
    "kernelspec": {
      "display_name": "Python 3",
      "name": "python3",
      "language": "python"
    }
  },
  "nbformat": 4
}